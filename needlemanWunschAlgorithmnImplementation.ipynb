{
 "cells": [
  {
   "cell_type": "code",
   "execution_count": 5,
   "metadata": {
    "colab": {
     "base_uri": "https://localhost:8080/",
     "height": 153
    },
    "executionInfo": {
     "elapsed": 398,
     "status": "ok",
     "timestamp": 1546569436948,
     "user": {
      "displayName": "Benedict Paten",
      "photoUrl": "https://lh6.googleusercontent.com/-KEXp34y2Ra8/AAAAAAAAAAI/AAAAAAAAAHs/xzPsOsCpcaU/s64/photo.jpg",
      "userId": "06399644931392855882"
     },
     "user_tz": 480
    },
    "id": "WiJ88ahanEs5",
    "outputId": "e3b62796-5dfc-4df8-ca59-ebc120bb74b3"
   },
   "outputs": [
    {
     "data": {
      "text/plain": [
       "array([[ True,  True,  True,  True,  True],\n",
       "       [ True,  True,  True,  True,  True],\n",
       "       [ True,  True,  True,  True,  True],\n",
       "       [ True,  True,  True,  True,  True],\n",
       "       [ True,  True,  True,  True,  True],\n",
       "       [ True,  True,  True,  True,  True],\n",
       "       [ True,  True,  True,  True,  True],\n",
       "       [ True,  True,  True,  True,  True]])"
      ]
     },
     "execution_count": 5,
     "metadata": {},
     "output_type": "execute_result"
    }
   ],
   "source": [
    "# Test the edit matrix get built right\n",
    "\n",
    "needlemanWunsch.editMatrix == [[  0,  -2,  -4,  -6,  -8],\n",
    "       [ -2,  -3,  -5,  -7,  -9],\n",
    "       [ -4,  -5,   0,  -2,  -4],\n",
    "       [ -6,  -1,  -2,  -3,  -5],\n",
    "       [ -8,  -3,  -4,  -5,  -6],\n",
    "       [-10,  -5,   0,  -2,  -2],\n",
    "       [-12,  -7,  -2,   3,   1],\n",
    "       [-14,  -9,  -4,   1,   6]]"
   ]
  },
  {
   "cell_type": "code",
   "execution_count": 29,
   "metadata": {
    "id": "pwJBZj6ShzO9"
   },
   "outputs": [
    {
     "data": {
      "text/plain": [
       "[(3, 0), (4, 1), (5, 2), (6, 3)]"
      ]
     },
     "execution_count": 29,
     "metadata": {},
     "output_type": "execute_result"
    }
   ],
   "source": [
    "# Problem 1 - Implement the Needleman-Wunsch algorithm \n",
    "# to compute the optimal alignment for a pair of sequences\n",
    "\n",
    "import numpy\n",
    "\n",
    "class NeedlemanWunsch(object):\n",
    "    def __init__(self, string1, string2, gapScore=-2, matchScore=3, \n",
    "                 mismatchScore=-3):\n",
    "        \"\"\" Finds an optimal global alignment of two strings.  \n",
    "        \"\"\"\n",
    "        \n",
    "        #Preinitialized to have zero values\n",
    "        self.editMatrix = numpy.zeros(shape=[len(string1)+1, len(string2)+1], dtype=int) # Numpy matrix representing edit matrix\n",
    "        self.string1 = string1\n",
    "        self.string2 = string2\n",
    "        self.gapScore = gapScore\n",
    "        self.matchScore = matchScore\n",
    "        self.mismatchScore = mismatchScore\n",
    "        \n",
    "        #appending the empty string to both strings \n",
    "        \n",
    "        fullString1 = \" \" + string1 #column\n",
    "        \n",
    "        fullString2 = \" \" + string2 #row\n",
    "        \n",
    "        \n",
    "        \n",
    "        #iterate over the length of both strings (they are assumed to be the same length)\n",
    "        \n",
    "        #initializing the first column \n",
    "        for characterIndex in range(0, len(fullString1)):\n",
    "            self.editMatrix[characterIndex][0] = characterIndex * gapScore\n",
    "        \n",
    "        #initializing the first row\n",
    "        for characterIndex in range(0, len(fullString2)):\n",
    "            self.editMatrix[0][characterIndex] = characterIndex * gapScore\n",
    "      \n",
    "        \n",
    "        #starting at the top left unfilled cell\n",
    "        #iterating over a row and getting the corresponding symbol \n",
    "        for rowNumber in range(1, len(fullString1)): \n",
    "            i = rowNumber\n",
    "            rowSymbol = fullString1[i]\n",
    "            \n",
    "        \n",
    "            #iterating over, using rowIndex, and getting the symbol given by  each \n",
    "            for columnIndex in range(1, len(fullString2)):\n",
    "                \n",
    "                j = columnIndex\n",
    "                columnSymbol = fullString2[j]\n",
    "                \n",
    "                #checking to see if the rowSymbol is equal to the columnSymbol\n",
    "                #thus, take the score of the diagonal nearest neighbor + match score \n",
    "                if rowSymbol == columnSymbol:\n",
    "                    self.editMatrix[i][j] = self.editMatrix[i-1][j-1] + matchScore\n",
    "                    \n",
    "                #otherwise, it looks at the max value of transition + score of the nearest neighbors\n",
    "                #finding the set of the three nearest neighbor cells \n",
    "                #also, finding the transition score and adding it to each\n",
    "                else:\n",
    "                    adjacentCellsPenalties = [\n",
    "                        self.editMatrix[i-1][j] + gapScore, #deletion\n",
    "                        self.editMatrix[i][j-1] + gapScore , #insertion\n",
    "                        self.editMatrix[i-1][j-1] + mismatchScore] #mismatch/substituion\n",
    "                        \n",
    "                #updating score of the current cell\n",
    "                    self.editMatrix[i][j] = max(adjacentCellsPenalties)\n",
    "                \n",
    "    def getAlignmentScore(self):\n",
    "        \"\"\" Return the alignment score\n",
    "        \"\"\"\n",
    "        #Simply gets the score of the bottom right cell and returns it \n",
    "        return self.editMatrix[len(self.string1)][len(self.string2)]\n",
    "        \n",
    "            \n",
    "    def getAlignment(self):\n",
    "        \"\"\" Returns an optimal global alignment of two strings. Aligned\n",
    "        is returned as an ordered list of aligned pairs.\n",
    "        \n",
    "        e.g. For the two strings GATTACA and TACA an global alignment is\n",
    "        is GATTACA\n",
    "           ---TACA\n",
    "        This alignment would be returned as:\n",
    "        \n",
    "        [(3, 0), (4, 1), (5, 2), (6, 3)]\n",
    "        \"\"\"\n",
    "        fullString1 =  self.string1\n",
    "        fullString2 =  self.string2\n",
    "        \n",
    "        \n",
    "        \n",
    "        alignedPairs = []\n",
    "        # Code to complete - generated by traceback through matrix to generate aligned pairs\n",
    "        \n",
    "        #starting from bottom right cell....\n",
    "        \n",
    "        #iterating backwards from the bottom right to the top\n",
    "        \n",
    "        alignmentString1 = \"\"\n",
    "        alignmentString2 = \"\"\n",
    "        \n",
    "        i = len(fullString1) \n",
    "        j = len(fullString2) \n",
    "        #lastScore = self.editMatrix[i][j]\n",
    "        #print(\"what should be the first last score\", lastScore)\n",
    "        \n",
    "        \n",
    "        #going until the the current cell is the top left, then breaking \n",
    "        while i > 0 and j > 0:\n",
    "            lastScore = self.editMatrix[i][j]\n",
    "            \n",
    "            #look at the neighboring 3 cells' scores\n",
    "            \n",
    "            #match\n",
    "            if self.editMatrix[i-1][j-1] + self.matchScore == lastScore:\n",
    "                alignmentString1 = fullString1[i-1] + alignmentString1 \n",
    "                \n",
    "                alignmentString2 = fullString2[j-1] + alignmentString2\n",
    "                \n",
    "                \n",
    "                i = i-1\n",
    "                j = j-1\n",
    "                \n",
    "                alignedPairs.append((i,j))\n",
    "                #print(alignmentString1, alignmentString2)\n",
    "            \n",
    "            \n",
    "            #deletion\n",
    "            elif self.editMatrix[i-1][j] + self.gapScore == lastScore:\n",
    "                alignmentString1 = fullString1[i-1] + alignmentString1\n",
    "                alignmentString2 = \"-\" + alignmentString2\n",
    "                i = i-1\n",
    "                j = j\n",
    "            \n",
    "            #insertion\n",
    "            elif self.editMatrix[i][j-1] + self.gapScore == lastScore:\n",
    "                alignmentString2 = fullString2[j-1] + alignmentString2\n",
    "                alignmentString1 = \"-\" + alignmentString1\n",
    "                i = i\n",
    "                j = j-1\n",
    "            \n",
    "            #mismatch\n",
    "            else:\n",
    "                #print(lastScore)\n",
    "                alignmentString1 = \"-\" + alignmentString1\n",
    "                alignmentString2 = \"-\" + alignmentString2\n",
    "                i = i-1\n",
    "                j = j-1\n",
    "        alignedPairs.sort()\n",
    "        return alignedPairs\n",
    "\n",
    "string1 = \"GATTACA\" #row indices\n",
    "string2 =   \"TACA\" #column indices\n",
    "\n",
    "needlemanWunsch = NeedlemanWunsch(string1, string2)\n",
    "needlemanWunsch.getAlignmentScore()\n",
    "needlemanWunsch.getAlignment()"
   ]
  },
  {
   "cell_type": "code",
   "execution_count": 30,
   "metadata": {
    "colab": {
     "base_uri": "https://localhost:8080/",
     "height": 34
    },
    "executionInfo": {
     "elapsed": 1351,
     "status": "ok",
     "timestamp": 1546569440930,
     "user": {
      "displayName": "Benedict Paten",
      "photoUrl": "https://lh6.googleusercontent.com/-KEXp34y2Ra8/AAAAAAAAAAI/AAAAAAAAAHs/xzPsOsCpcaU/s64/photo.jpg",
      "userId": "06399644931392855882"
     },
     "user_tz": 480
    },
    "id": "jePuKQqWpZsh",
    "outputId": "5845034b-fad4-42cd-8222-e7eeef001fbf"
   },
   "outputs": [
    {
     "data": {
      "text/plain": [
       "True"
      ]
     },
     "execution_count": 30,
     "metadata": {},
     "output_type": "execute_result"
    }
   ],
   "source": [
    "# Test the score function\n",
    "\n",
    "needlemanWunsch.getAlignmentScore() == 6"
   ]
  },
  {
   "cell_type": "code",
   "execution_count": 31,
   "metadata": {
    "colab": {
     "base_uri": "https://localhost:8080/",
     "height": 34
    },
    "executionInfo": {
     "elapsed": 560,
     "status": "ok",
     "timestamp": 1546569561659,
     "user": {
      "displayName": "Benedict Paten",
      "photoUrl": "https://lh6.googleusercontent.com/-KEXp34y2Ra8/AAAAAAAAAAI/AAAAAAAAAHs/xzPsOsCpcaU/s64/photo.jpg",
      "userId": "06399644931392855882"
     },
     "user_tz": 480
    },
    "id": "_ArQmM4Iqp5L",
    "outputId": "117c13f8-f644-4758-ac2a-b398d8db5b70"
   },
   "outputs": [
    {
     "data": {
      "text/plain": [
       "True"
      ]
     },
     "execution_count": 31,
     "metadata": {},
     "output_type": "execute_result"
    }
   ],
   "source": [
    "# Test the get alignment function\n",
    "\n",
    "needlemanWunsch.getAlignment() == [(3, 0), (4, 1), (5, 2), (6, 3)]"
   ]
  },
  {
   "cell_type": "code",
   "execution_count": null,
   "metadata": {},
   "outputs": [],
   "source": []
  }
 ],
 "metadata": {
  "colab": {
   "collapsed_sections": [],
   "name": "BME 230 Efficient string comparison part 4.ipynb",
   "provenance": []
  },
  "kernelspec": {
   "display_name": "Python 3 (ipykernel)",
   "language": "python",
   "name": "python3"
  },
  "language_info": {
   "codemirror_mode": {
    "name": "ipython",
    "version": 3
   },
   "file_extension": ".py",
   "mimetype": "text/x-python",
   "name": "python",
   "nbconvert_exporter": "python",
   "pygments_lexer": "ipython3",
   "version": "3.11.5"
  }
 },
 "nbformat": 4,
 "nbformat_minor": 1
}
