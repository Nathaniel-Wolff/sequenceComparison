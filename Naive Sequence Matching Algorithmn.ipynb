{
 "cells": [
  {
   "cell_type": "code",
   "execution_count": null,
   "metadata": {},
   "outputs": [],
   "source": [
    "\"\"\"Due in 1 Week. \"\"\""
   ]
  },
  {
   "cell_type": "code",
   "execution_count": 1,
   "metadata": {
    "colab": {
     "base_uri": "https://localhost:8080/",
     "height": 34
    },
    "executionInfo": {
     "elapsed": 624,
     "status": "ok",
     "timestamp": 1546971356427,
     "user": {
      "displayName": "Benedict Paten",
      "photoUrl": "https://lh6.googleusercontent.com/-KEXp34y2Ra8/AAAAAAAAAAI/AAAAAAAAAHs/xzPsOsCpcaU/s64/photo.jpg",
      "userId": "06399644931392855882"
     },
     "user_tz": 480
    },
    "id": "s92l617dK0qU",
    "outputId": "370b091e-d2a0-47c5-f512-08c73cd1fe55"
   },
   "outputs": [
    {
     "name": "stdout",
     "output_type": "stream",
     "text": [
      "[20, 27] 60\n"
     ]
    }
   ],
   "source": [
    "# Problem 1 - implement a naive string matching algorithm:\n",
    "#Complete\n",
    "\n",
    "pattern = \"CCTTTTGC\"\n",
    "text = \"CGTGCCTACTTACTTACTTACCTTTTGCCTTTTGCACGCGAA\"\n",
    "\n",
    "\n",
    "def naive(p, t):\n",
    "    characterComparisons = 0\n",
    "    occurrences = []\n",
    "    \n",
    "    \n",
    "    #why is the range of alignment len(t) - len(p) + 1?\n",
    "    #but the pattern index is just range(0,len(p))\n",
    "    #because that's accounted for here. alignments go from the first character to exact len(p) less than the end\n",
    "    for alignment in range(0, len(t)-len(p)+1):\n",
    "        #characterComparisons += 1 \n",
    "        #print(alignment)\n",
    "        \n",
    "        found = True\n",
    "        \n",
    "        for patternIndex in range(0, len(p)):\n",
    "            \n",
    "            \n",
    "            characterComparisons +=1\n",
    "            onePatternCharacter = p[patternIndex:patternIndex+1]\n",
    "            oneTextCharacter = t[alignment+patternIndex:alignment+patternIndex+1]\n",
    "            \n",
    "            if onePatternCharacter != oneTextCharacter:\n",
    "                found = False\n",
    "                break\n",
    "        \n",
    "        if found:\n",
    "                occurrences.append(alignment)\n",
    "                \n",
    "            \n",
    "        \n",
    "  # Code to complete - do not use find or the \"in\" operator\n",
    "    #print(occurrences, characterComparisons)\n",
    "    \n",
    "    return occurrences, characterComparisons\n",
    "\n",
    "\n",
    "thisNaive = naive(pattern, text)\n",
    "\n",
    "#naive(pattern, text) == ([20, 27], 60)\n"
   ]
  },
  {
   "cell_type": "code",
   "execution_count": 2,
   "metadata": {
    "colab": {
     "base_uri": "https://localhost:8080/",
     "height": 34
    },
    "executionInfo": {
     "elapsed": 690,
     "status": "ok",
     "timestamp": 1546473781140,
     "user": {
      "displayName": "Benedict Paten",
      "photoUrl": "https://lh6.googleusercontent.com/-KEXp34y2Ra8/AAAAAAAAAAI/AAAAAAAAAHs/xzPsOsCpcaU/s64/photo.jpg",
      "userId": "06399644931392855882"
     },
     "user_tz": 480
    },
    "id": "DPZWlfxCLk-0",
    "outputId": "46841a02-30e4-4b57-ce95-d23ceddc04ed"
   },
   "outputs": [
    {
     "data": {
      "text/plain": [
       "True"
      ]
     },
     "execution_count": 2,
     "metadata": {},
     "output_type": "execute_result"
    }
   ],
   "source": [
    "# Problem 2 - implement the bad character rule:\n",
    "#Complete\n",
    "Pattern = \"CCTTTTGC\"\n",
    "dnaAlphabet=\"ACGT\"\n",
    "\n",
    "def makeBadCharacterRuleLookupTable(pattern, alphabet):\n",
    "  \n",
    "  # Make len(alphabet) x len(p) lookup table\n",
    "    badCharacterRuleLookupTable = [[1]*len(alphabet) for i in range(len(pattern))]\n",
    "      \n",
    "    #print(\"table is in the form row1 (A), row2 (C), row3 (G), row4 (T), etc.\")\n",
    "    \n",
    "    #iterating over the characters of the pattern backwards\n",
    "    for characterIndex in range(len(pattern)-1, -1, -1):\n",
    "        character = pattern[characterIndex:characterIndex+1]\n",
    "        \n",
    "        \n",
    "        #iterating over the possible mismatches (rows) in lexographic order\n",
    "        for mismatchIndex in range(0,len(alphabet)):\n",
    "            mismatch = alphabet[mismatchIndex:mismatchIndex+1]\n",
    "            \n",
    "            mismatchSkips = 1\n",
    "            \n",
    "            #print(\"MM:\", mismatch)\n",
    "            \n",
    "            #iterating over the prefix(that is, the substring)\n",
    "            prefix = pattern[:characterIndex]\n",
    "            \n",
    "            for prefixIndex in range(characterIndex-1, -1, -1):\n",
    "                \n",
    "                prefixCharacter = pattern[prefixIndex:prefixIndex+1]\n",
    "                \n",
    "                #finding the index of last occurence of the mismatch in the prefix\n",
    "                if prefixCharacter == mismatch:\n",
    "                    #number of skips = len(prefix) - index(lastoccurence)\n",
    "                    mismatchSkips = len(prefix) - prefixIndex\n",
    "                \n",
    "                    #if mismatch skips = 0 (that is, you wouldn't skip), assert a skip value of 1 in the table\n",
    "                    if mismatchSkips == 0:\n",
    "                        print(\"ok\")\n",
    "                        badCharacterRuleLookupTable[characterIndex][mismatchIndex] = 1\n",
    "                    else:\n",
    "                        badCharacterRuleLookupTable[characterIndex][mismatchIndex] = mismatchSkips\n",
    "                    \n",
    "                    #break the loop\n",
    "                    break\n",
    "                #unless the mismatch doesn't occur; then just skip the length of the prefix over the mismatch\n",
    "                else:\n",
    "                    mismatchSkips = len(prefix)+1\n",
    "                    badCharacterRuleLookupTable[characterIndex][mismatchIndex] = mismatchSkips\n",
    "            \n",
    "    return badCharacterRuleLookupTable\n",
    "\n",
    "makeBadCharacterRuleLookupTable(Pattern, dnaAlphabet) ==[[1, 1, 1, 1], [2, 1, 2, 2], [3, 1, 3, 3],[4, 2, 4, 1],[5, 3, 5, 1],[6, 4, 6, 1],[7, 5, 7, 1],[8, 6, 1, 2]]"
   ]
  },
  {
   "cell_type": "code",
   "execution_count": 9,
   "metadata": {
    "colab": {
     "base_uri": "https://localhost:8080/",
     "height": 34
    },
    "executionInfo": {
     "elapsed": 323,
     "status": "ok",
     "timestamp": 1546474435547,
     "user": {
      "displayName": "Benedict Paten",
      "photoUrl": "https://lh6.googleusercontent.com/-KEXp34y2Ra8/AAAAAAAAAAI/AAAAAAAAAHs/xzPsOsCpcaU/s64/photo.jpg",
      "userId": "06399644931392855882"
     },
     "user_tz": 480
    },
    "id": "EnSKkm5k1FvN",
    "outputId": "2b58ea93-b258-4db3-cd74-47588b7e2e6c"
   },
   "outputs": [
    {
     "name": "stdout",
     "output_type": "stream",
     "text": [
      "Occur and comparisons [20, 27] 24\n",
      "Occur and comparisons [20, 27] 24\n"
     ]
    },
    {
     "data": {
      "text/plain": [
       "True"
      ]
     },
     "execution_count": 9,
     "metadata": {},
     "output_type": "execute_result"
    }
   ],
   "source": [
    "# Problem 3 - use the bad character rule lookup table to reduce the total number of character comparisons\n",
    "#working with the succeeded comparisons \n",
    "Pattern = \"CCTTTTGC\"\n",
    "dnaAlphabet=\"ACGT\"\n",
    "text = \"CGTGCCTACTTACTTACTTACCTTTTGCCTTTTGCACGCGAA\"\n",
    "\n",
    "\n",
    "def naivePlusBadCharacter(p, t, bclut, alphabet):\n",
    "    \n",
    "    characterComparisons = 0\n",
    "    #succedeed comparisons accounts for changing alignments when you actually find a match\n",
    "    #...not getting the right number of comparisons\n",
    "    succededComparisons = 0 \n",
    "    occurrences = []\n",
    "    \n",
    "    \n",
    "    #alignment are set based on the number of running skips. \n",
    "    \n",
    "    #That is, alignment = runningSkips\n",
    "    runningSkips = 0\n",
    "    \n",
    "    #skip alignments up to the length of the text - length of the pattern\n",
    "    while runningSkips <= len(t)-len(p) + 1:\n",
    "        \n",
    "        characterComparisons +=1\n",
    "        \n",
    "        alignment = runningSkips\n",
    "        \n",
    "        found = True\n",
    "        \n",
    "        for patternIndex in range(0, len(p)):\n",
    "            #characterComparisons +=1\n",
    "            \n",
    "            onePatternCharacter = p[patternIndex:patternIndex+1]\n",
    "            oneTextCharacter = t[alignment+patternIndex:alignment+patternIndex+1]\n",
    "            \n",
    "            if onePatternCharacter != oneTextCharacter:\n",
    "                #reminder: oneTextCharacter is b, the mismatch \n",
    "                \n",
    "                #instead of immediately breaking, look up the number of skips in the table\n",
    "                skips = bclut[patternIndex][alphabet.index(oneTextCharacter)]\n",
    "                \n",
    "                #add the skips to the running total, which the next iteration of the while loop starts from\n",
    "                runningSkips += skips\n",
    "                \n",
    "                found = False\n",
    "                break\n",
    "        \n",
    "        if found:\n",
    "                occurrences.append(alignment)\n",
    "                succededComparisons += 1\n",
    "                #skip only to the next alignment this time\n",
    "                runningSkips += 1\n",
    "    \n",
    "    realComparisons = characterComparisons - succededComparisons\n",
    "\n",
    "    return occurrences, realComparisons\n",
    "\n",
    "\n",
    "#note: bclut is the lookup table that results from preprocessing \n",
    "bclut = makeBadCharacterRuleLookupTable(Pattern, dnaAlphabet)\n",
    "\n",
    "#calling the actual function\n",
    "\n",
    "thisResult = naivePlusBadCharacter(Pattern, text, bclut, dnaAlphabet)\n",
    "\n",
    "naivePlusBadCharacter(Pattern, text, bclut, dnaAlphabet) == ([20, 27], 24)"
   ]
  },
  {
   "cell_type": "code",
   "execution_count": null,
   "metadata": {},
   "outputs": [],
   "source": []
  }
 ],
 "metadata": {
  "colab": {
   "provenance": []
  },
  "kernelspec": {
   "display_name": "Python 3 (ipykernel)",
   "language": "python",
   "name": "python3"
  },
  "language_info": {
   "codemirror_mode": {
    "name": "ipython",
    "version": 3
   },
   "file_extension": ".py",
   "mimetype": "text/x-python",
   "name": "python",
   "nbconvert_exporter": "python",
   "pygments_lexer": "ipython3",
   "version": "3.11.5"
  }
 },
 "nbformat": 4,
 "nbformat_minor": 1
}
