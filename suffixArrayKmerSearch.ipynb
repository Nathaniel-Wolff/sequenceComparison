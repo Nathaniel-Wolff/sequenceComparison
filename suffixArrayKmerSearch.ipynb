{
 "cells": [
  {
   "cell_type": "code",
   "execution_count": 9,
   "metadata": {
    "id": "EWxTJeWpxuL_"
   },
   "outputs": [],
   "source": [
    "# Problem 1: Build a simple, list based k-mer index of a string to be searched\n",
    "\n",
    "#Example adapted from Ben Langmead (thanks!)\n",
    "#Complete!\n",
    "\n",
    "import bisect\n",
    "import sys\n",
    "\n",
    "class Index(object):\n",
    "    def __init__(self, t, k):\n",
    "        ''' Create index from all substrings of size 'length' '''\n",
    "        \n",
    "        self.t = t\n",
    "        \n",
    "        #considerations for later:\n",
    "        self.k = k  # k-mer length (k)\n",
    "        \n",
    "        self.index = []\n",
    "        \n",
    "        #creates a substring index w/parameters t = text and k = substring size \n",
    "        for offset in range(0,len(self.t)-self.k+1):\n",
    "            #enumerating kmers\n",
    "            kmer = self.t[offset: offset+self.k]\n",
    "            #saving them and their offsets as tuples\n",
    "            self.index.append((kmer, offset))\n",
    "            \n",
    "        #sorting the substring index attribute\n",
    "        self.index.sort()\n",
    "        \n",
    "       \n",
    "        \n",
    "    #complete\n",
    "    def queryKmer(self, kmer):\n",
    "        ''' Return locations of kmer in t'''\n",
    "        \n",
    "        #take sorted substring index, kmer and start binary search\n",
    "        \n",
    "        assert len(kmer) == self.k\n",
    "        hits = [] \n",
    "        \n",
    "      # Find first location of kmer in self.index (hint: use bisect.bisect_left function)\n",
    "    \n",
    "        #first needs to run through an alphabetized list of the substrings and find the first hit\n",
    "        justSubStrings = [tuple[0] for tuple in self.index]\n",
    "        firstHit = bisect.bisect_left(justSubStrings, kmer)\n",
    "        \n",
    "        #using the firstHit index (which gives the index in self.index) to find the first occurence in the text\n",
    "        firstOccurence = self.index[firstHit][1]\n",
    "        \n",
    "        \n",
    "      #Iterate through self.index from first location of kmer to last adding matches to hits\n",
    "        for tuple in self.index[firstOccurence:]:\n",
    "            if tuple[0] == kmer:\n",
    "                #add the occurences to hits\n",
    "                hits.append(tuple[1])   \n",
    "        \n",
    "        return hits\n",
    "    \n",
    "    def query(self, p):\n",
    "        ''' Return occurrences of pattern p in t'''\n",
    "        kmer = p[:self.k]\n",
    "        \n",
    "        occurrences = []\n",
    "        \n",
    "      # Code to complete:\n",
    "      # Use self.queryKmer to find locations of prefix kmer of p in t\n",
    "        kmerHits = self.queryKmer(kmer)\n",
    "        \n",
    "      # For each location, ascertain if suffix of p matches the corresponding substring of t\n",
    "        \n",
    "        #iterate through each hit\n",
    "        for hit in kmerHits:\n",
    "            \n",
    "            #start character comparing from the end of the kmer\n",
    "            \n",
    "            #iterate over all of the characters of the suffix after the hit\n",
    "            for index in range(0,len(p)-self.k+1):\n",
    "                textCharacter = self.t[hit+index:hit+index+1]\n",
    "                #get the proper pattern character in the corresponding index\n",
    "                patternCharacter = p[index:index+1]\n",
    "                \n",
    "                #Boolean should only remain true if the entire suffix matches the remainder of the pattern\n",
    "                found = True\n",
    "                   \n",
    "                if patternCharacter != textCharacter:\n",
    "                        found = False\n",
    "                        break\n",
    "            #if found stays true, append the hit to the occurences  \n",
    "            if found:\n",
    "                occurrences.append(hit)\n",
    "\n",
    "      # Return the occurrences\n",
    "        \n",
    "        return occurrences\n",
    "       \n",
    "text = 'ACTTGGAGATCTTTGAGGCTAGGTATTCGGGATCGAAGCTCATTTCGGGGATCGATTACGATATGGTGGGTATTCGGGA'\n",
    "pattern = 'GGTATTCGGGA'\n",
    "K = 3\n",
    "\n",
    "index = Index(text, K)\n",
    "firstHit = index.queryKmer(kmer=\"GGT\")\n",
    "patternOccurrences = index.query(pattern)"
   ]
  },
  {
   "cell_type": "code",
   "execution_count": 10,
   "metadata": {
    "colab": {
     "base_uri": "https://localhost:8080/",
     "height": 34
    },
    "executionInfo": {
     "elapsed": 381,
     "status": "ok",
     "timestamp": 1546538986570,
     "user": {
      "displayName": "Benedict Paten",
      "photoUrl": "https://lh6.googleusercontent.com/-KEXp34y2Ra8/AAAAAAAAAAI/AAAAAAAAAHs/xzPsOsCpcaU/s64/photo.jpg",
      "userId": "06399644931392855882"
     },
     "user_tz": 480
    },
    "id": "nYLOQCGv4-sK",
    "outputId": "c17d96f8-4a00-4cb5-a920-1bccefdbcb49"
   },
   "outputs": [
    {
     "data": {
      "text/plain": [
       "True"
      ]
     },
     "execution_count": 10,
     "metadata": {},
     "output_type": "execute_result"
    }
   ],
   "source": [
    "# Test queryKmer method\n",
    "text = 'ACTTGGAGATCTTTGAGGCTAGGTATTCGGGATCGAAGCTCATTTCGGGGATCGATTACGATATGGTGGGTATTCGGGA'\n",
    "pattern = 'GGTATTCGGGA'\n",
    "K = 3\n",
    "\n",
    "index = Index(text, K)\n",
    "index.queryKmer(\"GGT\") == [21, 64, 68]"
   ]
  },
  {
   "cell_type": "code",
   "execution_count": 11,
   "metadata": {
    "colab": {
     "base_uri": "https://localhost:8080/",
     "height": 34
    },
    "executionInfo": {
     "elapsed": 314,
     "status": "ok",
     "timestamp": 1546538988113,
     "user": {
      "displayName": "Benedict Paten",
      "photoUrl": "https://lh6.googleusercontent.com/-KEXp34y2Ra8/AAAAAAAAAAI/AAAAAAAAAHs/xzPsOsCpcaU/s64/photo.jpg",
      "userId": "06399644931392855882"
     },
     "user_tz": 480
    },
    "id": "iv8OP2Xi5HCJ",
    "outputId": "5415c60e-de26-48ea-b290-3b9d07a7166c"
   },
   "outputs": [
    {
     "data": {
      "text/plain": [
       "True"
      ]
     },
     "execution_count": 11,
     "metadata": {},
     "output_type": "execute_result"
    }
   ],
   "source": [
    "# Test query method\n",
    "index.query(pattern) == [21, 68]"
   ]
  },
  {
   "cell_type": "code",
   "execution_count": null,
   "metadata": {
    "colab": {
     "base_uri": "https://localhost:8080/",
     "height": 34
    },
    "executionInfo": {
     "elapsed": 293,
     "status": "ok",
     "timestamp": 1546538989743,
     "user": {
      "displayName": "Benedict Paten",
      "photoUrl": "https://lh6.googleusercontent.com/-KEXp34y2Ra8/AAAAAAAAAAI/AAAAAAAAAHs/xzPsOsCpcaU/s64/photo.jpg",
      "userId": "06399644931392855882"
     },
     "user_tz": 480
    },
    "id": "XVEVCzBU5leC",
    "outputId": "4597c0d7-ee0d-45fc-dcd2-a51ba0bb6abc"
   },
   "outputs": [],
   "source": [
    "# Report index specificity \n",
    "#what is this??\n",
    "float(len(index.query(pattern)))/len(index.queryKmer(pattern[:K]))"
   ]
  },
  {
   "cell_type": "code",
   "execution_count": 4,
   "metadata": {
    "id": "XMScHko85RzN"
   },
   "outputs": [
    {
     "data": {
      "text/plain": [
       "[68, 21]"
      ]
     },
     "execution_count": 4,
     "metadata": {},
     "output_type": "execute_result"
    }
   ],
   "source": [
    "# Problem 2: Build a simple suffix array\n",
    "\n",
    "#complete\n",
    "class SuffixArray(object):\n",
    "    #complete\n",
    "    def __init__(self, t):\n",
    "        ''' Create suffix array representing suffixes in t '''\n",
    "      \n",
    "        self.td = t + \"$\"\n",
    "        self.index = [] ## Array of integers representing lexicographically sorted suffixes of t\n",
    "        # e.g. for t$ = ATA$\n",
    "        # have suffixes\n",
    "        # 0 = ATA$\n",
    "        # 1 = TA$\n",
    "        # 2 = A$\n",
    "        # 3 = $\n",
    "        # such that self.index == [ 3, 2, 0, 1 ]\n",
    "      \n",
    "    \n",
    "        #iterate through all of the start indices for each suffix and sort in lexographic order\n",
    "        #lambda function fetches the actual suffix from each start index and uses that as its key\n",
    "        self.index = sorted([end for end in range(0,len(self.td))], key = lambda a: self.td[a:])\n",
    "      \n",
    "    \n",
    "    def query(self, p):\n",
    "        # function on self.index\n",
    "        ''' Return occurrences of pattern p in t'''\n",
    "      \n",
    "        # Code to complete - find all occurrences of p in t by writing binary search\n",
    "        \n",
    "        #finding the first occurence of p in t using binary search\n",
    "        \n",
    "        #top and bottom of the interval under current scrutiny\n",
    "        left, right = 0, len(self.td)\n",
    "\n",
    "        #assuming the interval is still valid, shrink the interval\n",
    "        while left < right:\n",
    "            #getting the suffix at the current midpoint\n",
    "            midpoint = (left + right)//2\n",
    "            midpointSuffix = self.td[self.index[midpoint]:self.index[midpoint] + len(p)]\n",
    "            \n",
    "            #comparing the current midpoint suffix to the pattern\n",
    "            if midpointSuffix < p:\n",
    "                #shrinking the interval from the bottom\n",
    "                #why plus 1??? to preserve while condition I believe\n",
    "                left = midpoint + 1\n",
    "            else:\n",
    "                #shrinking the interval by setting the right end to the midpoint\n",
    "                right = midpoint\n",
    "        \n",
    "        lowOccurence = left\n",
    "        newLeft = lowOccurence\n",
    "        right = len(self.td)\n",
    "        \n",
    "        #having found the earliest instance of the pattern, find the absolute last\n",
    "        while newLeft < right:\n",
    "            #getting the suffix at the current midpoint \n",
    "            midpoint = (newLeft+right)//2\n",
    "\n",
    "            #same as before\n",
    "            midpointSuffix = self.td[self.index[midpoint]:self.index[midpoint] + len(p)]\n",
    "            \n",
    "            #comparing the current midpoint suffix to the pattern, but searching for last occurence\n",
    "            if midpointSuffix > p:\n",
    "                right = midpoint\n",
    "            else:\n",
    "                newLeft = midpoint + 1\n",
    "            \n",
    "            highOcurrence = right \n",
    "            \n",
    "            \n",
    "        #print range of occurrences\n",
    "        return self.index[lowOccurence:highOcurrence]\n",
    "        \n",
    "        \n",
    "thisSA = SuffixArray(\"ACTTGGAGATCTTTGAGGCTAGGTATTCGGGATCGAAGCTCATTTCGGGGATCGATTACGATATGGTGGGTATTCGGGA\")\n",
    "thisSA.query('GGTATTCGGGA')"
   ]
  },
  {
   "cell_type": "code",
   "execution_count": 5,
   "metadata": {
    "colab": {
     "base_uri": "https://localhost:8080/",
     "height": 34
    },
    "executionInfo": {
     "elapsed": 387,
     "status": "ok",
     "timestamp": 1546549618088,
     "user": {
      "displayName": "Benedict Paten",
      "photoUrl": "https://lh6.googleusercontent.com/-KEXp34y2Ra8/AAAAAAAAAAI/AAAAAAAAAHs/xzPsOsCpcaU/s64/photo.jpg",
      "userId": "06399644931392855882"
     },
     "user_tz": 480
    },
    "id": "5YL7qI8uSWGc",
    "outputId": "f2d59de6-e15b-4958-c169-a2e696d35512"
   },
   "outputs": [
    {
     "data": {
      "text/plain": [
       "True"
      ]
     },
     "execution_count": 5,
     "metadata": {},
     "output_type": "execute_result"
    }
   ],
   "source": [
    "# Test suffix array construction\n",
    "sa = SuffixArray(\"ATA\")\n",
    "sa.index == [ 3, 2, 0, 1 ]"
   ]
  },
  {
   "cell_type": "code",
   "execution_count": 6,
   "metadata": {
    "colab": {
     "base_uri": "https://localhost:8080/",
     "height": 34
    },
    "executionInfo": {
     "elapsed": 357,
     "status": "ok",
     "timestamp": 1546549620469,
     "user": {
      "displayName": "Benedict Paten",
      "photoUrl": "https://lh6.googleusercontent.com/-KEXp34y2Ra8/AAAAAAAAAAI/AAAAAAAAAHs/xzPsOsCpcaU/s64/photo.jpg",
      "userId": "06399644931392855882"
     },
     "user_tz": 480
    },
    "id": "oNaNt7xJSyt4",
    "outputId": "6d709882-b140-4197-834a-26d968d2db88"
   },
   "outputs": [
    {
     "data": {
      "text/plain": [
       "True"
      ]
     },
     "execution_count": 6,
     "metadata": {},
     "output_type": "execute_result"
    }
   ],
   "source": [
    "# Test suffix array search\n",
    "text = 'ACTTGGAGATCTTTGAGGCTAGGTATTCGGGATCGAAGCTCATTTCGGGGATCGATTACGATATGGTGGGTATTCGGGA'\n",
    "pattern = 'GGTATTCGGGA'\n",
    "sa = SuffixArray(text)\n",
    "sorted(sa.query(pattern)) == [21, 68]"
   ]
  },
  {
   "cell_type": "code",
   "execution_count": null,
   "metadata": {},
   "outputs": [],
   "source": []
  }
 ],
 "metadata": {
  "colab": {
   "provenance": []
  },
  "kernelspec": {
   "display_name": "Python 3 (ipykernel)",
   "language": "python",
   "name": "python3"
  },
  "language_info": {
   "codemirror_mode": {
    "name": "ipython",
    "version": 3
   },
   "file_extension": ".py",
   "mimetype": "text/x-python",
   "name": "python",
   "nbconvert_exporter": "python",
   "pygments_lexer": "ipython3",
   "version": "3.11.5"
  }
 },
 "nbformat": 4,
 "nbformat_minor": 1
}
